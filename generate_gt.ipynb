{
 "cells": [
  {
   "cell_type": "code",
   "execution_count": 2,
   "id": "2c887b60",
   "metadata": {},
   "outputs": [
    {
     "name": "stdout",
     "output_type": "stream",
     "text": [
      "Collecting pandas\n",
      "  Using cached pandas-2.0.3-cp38-cp38-manylinux_2_17_x86_64.manylinux2014_x86_64.whl.metadata (18 kB)\n",
      "Requirement already satisfied: python-dateutil>=2.8.2 in ./.venv/lib/python3.8/site-packages (from pandas) (2.9.0.post0)\n",
      "Requirement already satisfied: pytz>=2020.1 in ./.venv/lib/python3.8/site-packages (from pandas) (2025.2)\n",
      "Collecting tzdata>=2022.1 (from pandas)\n",
      "  Using cached tzdata-2025.2-py2.py3-none-any.whl.metadata (1.4 kB)\n",
      "Collecting numpy>=1.20.3 (from pandas)\n",
      "  Using cached numpy-1.24.4-cp38-cp38-manylinux_2_17_x86_64.manylinux2014_x86_64.whl.metadata (5.6 kB)\n",
      "Requirement already satisfied: six>=1.5 in ./.venv/lib/python3.8/site-packages (from python-dateutil>=2.8.2->pandas) (1.17.0)\n",
      "Using cached pandas-2.0.3-cp38-cp38-manylinux_2_17_x86_64.manylinux2014_x86_64.whl (12.4 MB)\n",
      "Using cached numpy-1.24.4-cp38-cp38-manylinux_2_17_x86_64.manylinux2014_x86_64.whl (17.3 MB)\n",
      "Using cached tzdata-2025.2-py2.py3-none-any.whl (347 kB)\n",
      "Installing collected packages: tzdata, numpy, pandas\n",
      "Successfully installed numpy-1.24.4 pandas-2.0.3 tzdata-2025.2\n",
      "Note: you may need to restart the kernel to use updated packages.\n"
     ]
    }
   ],
   "source": [
    "%pip install pandas"
   ]
  },
  {
   "cell_type": "code",
   "execution_count": 28,
   "id": "8ae3737b",
   "metadata": {},
   "outputs": [
    {
     "name": "stdout",
     "output_type": "stream",
     "text": [
      "🚨 Inconsistent date rows where Start > End:\n",
      "Empty DataFrame\n",
      "Columns: [DisNo., Start Year, Start Month, Start Day, End Year, End Month, End Day, Start Date Full, End Date Full, Location]\n",
      "Index: []\n",
      "  Flood Date\n",
      "0 1980-11-13\n",
      "1 1980-11-14\n",
      "2 1980-11-15\n",
      "3 1980-11-16\n",
      "4 1980-11-17\n"
     ]
    }
   ],
   "source": [
    "import pandas as pd\n",
    "\n",
    "# Load the CSV\n",
    "df = pd.read_csv(\"dataset/Flood_events.csv\")\n",
    "\n",
    "# Step 1: Filter for Quang Ngai\n",
    "df_qn = df[df[\"Location\"].str.contains(\"Quang Ngai\", case=False, na=False)].copy()\n",
    "\n",
    "# Focus on rows with missing start/end day but known month/year\n",
    "df_qn[\"Start Day\"] = df_qn[\"Start Day\"].fillna(13)\n",
    "df_qn[\"End Day\"] = df_qn[\"End Day\"].fillna(17)\n",
    "\n",
    "# Step 2: Build datetime columns\n",
    "df_qn[\"Start Date Full\"] = (\n",
    "    df_qn[\"Start Year\"].astype(int).astype(str) + \"-\" +\n",
    "    df_qn[\"Start Month\"].astype(int).astype(str).str.zfill(2) + \"-\" +\n",
    "    df_qn[\"Start Day\"].astype(int).astype(str).str.zfill(2)\n",
    ")\n",
    "\n",
    "df_qn[\"End Date Full\"] = (\n",
    "    df_qn[\"End Year\"].astype(int).astype(str) + \"-\" +\n",
    "    df_qn[\"End Month\"].astype(int).astype(str).str.zfill(2) + \"-\" +\n",
    "    df_qn[\"End Day\"].astype(int).astype(str).str.zfill(2)\n",
    ")\n",
    "\n",
    "# Step 3: Remove rows with invalid dates (NaNs from missing fields)\n",
    "df_qn.dropna(subset=[\"Start Date Full\", \"End Date Full\"], inplace=True)\n",
    "\n",
    "# Convert to datetime for comparison and expansion\n",
    "df_qn[\"Start Date Full\"] = pd.to_datetime(df_qn[\"Start Date Full\"], errors=\"coerce\")\n",
    "df_qn[\"End Date Full\"] = pd.to_datetime(df_qn[\"End Date Full\"], errors=\"coerce\")\n",
    "\n",
    "# Step 4: Detect inconsistent date rows\n",
    "inconsistent_rows = df_qn[df_qn[\"Start Date Full\"] > df_qn[\"End Date Full\"]]\n",
    "\n",
    "# Step 5: Generate all flood days from consistent data only\n",
    "valid_rows = df_qn[df_qn[\"Start Date Full\"] <= df_qn[\"End Date Full\"]]\n",
    "\n",
    "flood_days = []\n",
    "for _, row in valid_rows.iterrows():\n",
    "    flood_days.extend(pd.date_range(start=row[\"Start Date Full\"], end=row[\"End Date Full\"]))\n",
    "\n",
    "# Optional: Print inconsistent rows for manual checking\n",
    "print(\"🚨 Inconsistent date rows where Start > End:\")\n",
    "print(inconsistent_rows[[\n",
    "    \"DisNo.\", \"Start Year\", \"Start Month\", \"Start Day\", \n",
    "    \"End Year\", \"End Month\", \"End Day\",\n",
    "    \"Start Date Full\", \"End Date Full\", \"Location\"\n",
    "]])\n",
    "\n",
    "# Step 6: Finalize flood dates\n",
    "flood_days = sorted(set(flood_days))\n",
    "flood_daily_df = pd.DataFrame({\"Flood Date\": flood_days})\n",
    "\n",
    "# Save to CSV\n",
    "flood_daily_df.to_csv(\"flood_ground_truth.csv\", index=False)\n",
    "\n",
    "# Preview\n",
    "print(flood_daily_df.head())\n"
   ]
  }
 ],
 "metadata": {
  "kernelspec": {
   "display_name": ".venv",
   "language": "python",
   "name": "python3"
  },
  "language_info": {
   "codemirror_mode": {
    "name": "ipython",
    "version": 3
   },
   "file_extension": ".py",
   "mimetype": "text/x-python",
   "name": "python",
   "nbconvert_exporter": "python",
   "pygments_lexer": "ipython3",
   "version": "3.8.10"
  }
 },
 "nbformat": 4,
 "nbformat_minor": 5
}
